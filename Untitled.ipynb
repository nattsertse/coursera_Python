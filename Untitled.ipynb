{
 "cells": [
  {
   "cell_type": "code",
   "execution_count": null,
   "id": "8c83c513",
   "metadata": {},
   "outputs": [
    {
     "name": "stdout",
     "output_type": "stream",
     "text": [
      "welcome to my quize\n",
      "do you want to play? yes\n",
      "oka'y let's play(: \n",
      "what does UN stand for? united nation\n",
      "correct\n"
     ]
    }
   ],
   "source": [
    "print(\"welcome to my quize\")\n",
    "playing = input(\"do you want to play? \")\n",
    " \n",
    "if playing.lower() != \"yes\":\n",
    "    quit()\n",
    "print(\"oka'y let's play(: \")\n",
    "score = 0\n",
    "answer = input(\"what does UN stand for? \")\n",
    "\n",
    "if answer.lower() == \"united nation\":\n",
    "    print(\"correct\")\n",
    "    score += 1\n",
    "else:\n",
    "    print(\"incorrect\")\n",
    "answer = input(\"what does WHO stand for? \")\n",
    "\n",
    "if answer.lower() == \"world health organization\":\n",
    "    print(\"correct\")\n",
    "    score += 1\n",
    "else:\n",
    "    print(\"incorrect\")\n",
    "answer = input(\"what does AU stand for? \")\n",
    "\n",
    "if answer.lower() == \"african union\":\n",
    "    print(\"correct\")\n",
    "    score += 1\n",
    "else:\n",
    "    print(\"incorrect\")\n",
    "answer = input(\"what does PC stand for? \")\n",
    "\n",
    "if answer.lower() == \"personal computer\":\n",
    "    print(\"correct\")\n",
    "    score += 1\n",
    "else:\n",
    "    print(\"incorrect\")\n",
    "answer = input(\"what does RAM stand for? \")\n",
    "\n",
    "if answer.lower() == \"random access memory\":\n",
    "    print(\"correct\")\n",
    "    score += 1\n",
    "else:\n",
    "    print(\"incorrect\")\n",
    "answer = input(\"what does CPU stand for? \")\n",
    "if answer.lower() == \"central processing unit\":\n",
    "    print(\"correct\")\n",
    "    score += 1\n",
    "else:\n",
    "    print(\"incorrect\")\n",
    "\n",
    "print(\"you got \" + str(score) + \"out of 6\")    \n",
    "    "
   ]
  },
  {
   "cell_type": "code",
   "execution_count": null,
   "id": "1ce415aa",
   "metadata": {},
   "outputs": [],
   "source": []
  },
  {
   "cell_type": "code",
   "execution_count": null,
   "id": "bd6b9aa5",
   "metadata": {},
   "outputs": [],
   "source": []
  },
  {
   "cell_type": "code",
   "execution_count": null,
   "id": "451c3832",
   "metadata": {},
   "outputs": [],
   "source": []
  },
  {
   "cell_type": "code",
   "execution_count": null,
   "id": "19ffdb96",
   "metadata": {},
   "outputs": [],
   "source": []
  },
  {
   "cell_type": "code",
   "execution_count": null,
   "id": "03015c5c",
   "metadata": {},
   "outputs": [],
   "source": []
  }
 ],
 "metadata": {
  "kernelspec": {
   "display_name": "Python 3",
   "language": "python",
   "name": "python3"
  },
  "language_info": {
   "codemirror_mode": {
    "name": "ipython",
    "version": 3
   },
   "file_extension": ".py",
   "mimetype": "text/x-python",
   "name": "python",
   "nbconvert_exporter": "python",
   "pygments_lexer": "ipython3",
   "version": "3.8.8"
  }
 },
 "nbformat": 4,
 "nbformat_minor": 5
}
