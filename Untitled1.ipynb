{
 "cells": [
  {
   "cell_type": "code",
   "execution_count": null,
   "id": "bd3f63ef",
   "metadata": {},
   "outputs": [
    {
     "name": "stdout",
     "output_type": "stream",
     "text": [
      "what is your name?n\n",
      "what is your name?m\n"
     ]
    }
   ],
   "source": [
    "import sys\n",
    "\n",
    "user1 = str(input('what is your name?'))\n",
    "user2 = str(input('what is your name?'))\n",
    "\n",
    "user_name1 = str(input('%s,choose from rock,paper,sicsor?'%user1 ))\n",
    "user_name2 = str(input('%s,choose from rock,paper,sicsor?'%user2 ))\n",
    "\n",
    "def compare(u1, u2):\n",
    "    if u1 == u2:\n",
    "        return('draw')\n",
    "    elif u1 == 'rock':\n",
    "            if  u2 == 'paper':\n",
    "                return ('paper wins')\n",
    "            else:\n",
    "                return('sicsor wins')\n",
    "    elif u1 == 'paper':\n",
    "            if  u2 == 'sicsor':\n",
    "                return ('sicsor wins')\n",
    "            else:\n",
    "                return('rock wins')\n",
    "    elif u1 == 'rock':\n",
    "            if  u2 == 'sicsor':\n",
    "                return ('rock wins')\n",
    "            else:\n",
    "                return('paper wins')\n",
    "    else:\n",
    "        return ('inavalid input')\n",
    "        sys.exit()\n",
    "        \n",
    "print(compare(user_name1,user_name2))\n",
    "    \n",
    "    "
   ]
  },
  {
   "cell_type": "code",
   "execution_count": null,
   "id": "222d5fec",
   "metadata": {},
   "outputs": [],
   "source": []
  },
  {
   "cell_type": "code",
   "execution_count": null,
   "id": "34f5cb88",
   "metadata": {},
   "outputs": [],
   "source": []
  }
 ],
 "metadata": {
  "kernelspec": {
   "display_name": "Python 3",
   "language": "python",
   "name": "python3"
  },
  "language_info": {
   "codemirror_mode": {
    "name": "ipython",
    "version": 3
   },
   "file_extension": ".py",
   "mimetype": "text/x-python",
   "name": "python",
   "nbconvert_exporter": "python",
   "pygments_lexer": "ipython3",
   "version": "3.8.8"
  }
 },
 "nbformat": 4,
 "nbformat_minor": 5
}
