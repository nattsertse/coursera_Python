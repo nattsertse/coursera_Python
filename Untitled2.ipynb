{
 "cells": [
  {
   "cell_type": "code",
   "execution_count": 6,
   "id": "34041ddd",
   "metadata": {},
   "outputs": [
    {
     "name": "stdout",
     "output_type": "stream",
     "text": [
      "what is your namen\n",
      "n,please insert your word?vvvvv\n",
      "the word is palindrome\n"
     ]
    }
   ],
   "source": [
    "user1 = str(input('what is your name'))\n",
    "user_input = str(input('%s,please insert your word?' %user1))\n",
    "if user_input == user_input:\n",
    "    print('the word is palindrome')\n",
    "else:\n",
    "    print('the word is not palindrome')"
   ]
  },
  {
   "cell_type": "code",
   "execution_count": 3,
   "id": "d11c6b95",
   "metadata": {},
   "outputs": [
    {
     "name": "stdout",
     "output_type": "stream",
     "text": [
      "the value of x is 0\n",
      "the value of x is 1\n",
      "the value of x is 2\n",
      "the value of x is 3\n",
      "the value of x is 4\n"
     ]
    }
   ],
   "source": [
    "x = 0 \n",
    "while x < 5:\n",
    "    print('the value of x is %s'%x)\n",
    "    x += 1"
   ]
  },
  {
   "cell_type": "code",
   "execution_count": 7,
   "id": "7e3ea1d5",
   "metadata": {},
   "outputs": [
    {
     "data": {
      "text/plain": [
       "['addis', 'ababa', 'ethiopia', 'are', 'the', 'best', 'country']"
      ]
     },
     "execution_count": 7,
     "metadata": {},
     "output_type": "execute_result"
    }
   ],
   "source": [
    "x  = \"addis ababa ethiopia are the best country\"\n",
    "x.split()"
   ]
  },
  {
   "cell_type": "code",
   "execution_count": 10,
   "id": "a55313e8",
   "metadata": {},
   "outputs": [
    {
     "name": "stdout",
     "output_type": "stream",
     "text": [
      "[3, 6, 9, 12, 15, 18, 21, 24, 27, 30, 33, 36, 39, 42, 45, 48]\n"
     ]
    }
   ],
   "source": [
    "my_list = [ x for x in range(1,50) if x %3 == 0]\n",
    "print(my_list)"
   ]
  },
  {
   "cell_type": "code",
   "execution_count": 16,
   "id": "15b00574",
   "metadata": {},
   "outputs": [
    {
     "data": {
      "text/plain": [
       "range(1, 10)"
      ]
     },
     "execution_count": 16,
     "metadata": {},
     "output_type": "execute_result"
    }
   ],
   "source": [
    "range(1,10)"
   ]
  },
  {
   "cell_type": "code",
   "execution_count": 17,
   "id": "292825f6",
   "metadata": {},
   "outputs": [
    {
     "name": "stdout",
     "output_type": "stream",
     "text": [
      "1\n",
      "2\n",
      "3\n",
      "4\n"
     ]
    }
   ],
   "source": [
    "for x in range(1,5):\n",
    "    print(x)"
   ]
  },
  {
   "cell_type": "code",
   "execution_count": 6,
   "id": "45bbdfd5",
   "metadata": {},
   "outputs": [],
   "source": [
    "def myfunc(*args):\n",
    "    even = []\n",
    "    for x in args:\n",
    "        if x % 2 == 0:\n",
    "            return even.append(x)\n",
    "myfunc(1,2,3,4,5,6,7,8,9,6,5,54,3)            "
   ]
  },
  {
   "cell_type": "code",
   "execution_count": 7,
   "id": "1a433494",
   "metadata": {},
   "outputs": [],
   "source": [
    "lst =[1,2,3,4,5,6]\n",
    "lst.append(7)"
   ]
  },
  {
   "cell_type": "code",
   "execution_count": 8,
   "id": "25409857",
   "metadata": {},
   "outputs": [
    {
     "data": {
      "text/plain": [
       "[1, 2, 3, 4, 5, 6, 7]"
      ]
     },
     "execution_count": 8,
     "metadata": {},
     "output_type": "execute_result"
    }
   ],
   "source": [
    "lst\n"
   ]
  },
  {
   "cell_type": "code",
   "execution_count": 9,
   "id": "e9265099",
   "metadata": {},
   "outputs": [
    {
     "data": {
      "text/plain": [
       "7"
      ]
     },
     "execution_count": 9,
     "metadata": {},
     "output_type": "execute_result"
    }
   ],
   "source": [
    "lst.pop()"
   ]
  },
  {
   "cell_type": "code",
   "execution_count": 10,
   "id": "dbfac822",
   "metadata": {},
   "outputs": [
    {
     "data": {
      "text/plain": [
       "[1, 2, 3, 4, 5, 6]"
      ]
     },
     "execution_count": 10,
     "metadata": {},
     "output_type": "execute_result"
    }
   ],
   "source": [
    "lst\n"
   ]
  },
  {
   "cell_type": "code",
   "execution_count": 12,
   "id": "0ef56ff4",
   "metadata": {},
   "outputs": [
    {
     "data": {
      "text/plain": [
       "1"
      ]
     },
     "execution_count": 12,
     "metadata": {},
     "output_type": "execute_result"
    }
   ],
   "source": [
    "lst.count(3)"
   ]
  },
  {
   "cell_type": "code",
   "execution_count": 17,
   "id": "75b99799",
   "metadata": {},
   "outputs": [],
   "source": [
    "lst.extend([8,8,8,8,8])"
   ]
  },
  {
   "cell_type": "code",
   "execution_count": 18,
   "id": "49443bff",
   "metadata": {},
   "outputs": [
    {
     "data": {
      "text/plain": [
       "[1, 2, 3, 4, 5, 6, 8, 8, 8, 8, 8, 8, 8, 8, 8, 8]"
      ]
     },
     "execution_count": 18,
     "metadata": {},
     "output_type": "execute_result"
    }
   ],
   "source": [
    "lst\n"
   ]
  },
  {
   "cell_type": "code",
   "execution_count": 12,
   "id": "b1261eca",
   "metadata": {},
   "outputs": [
    {
     "name": "stdout",
     "output_type": "stream",
     "text": [
      "None\n"
     ]
    }
   ],
   "source": [
    "def myfunc(*args):\n",
    "    q = []    \n",
    "    for x in args:\n",
    "        if x % 2 == 0:\n",
    "            return q.append(x)\n",
    "        else:\n",
    "            pass\n",
    "        print(q.append(x))    \n",
    "myfunc(1,2,3,4,5,6,7,89,5,45,45,457,8)        "
   ]
  },
  {
   "cell_type": "code",
   "execution_count": 10,
   "id": "b3e85ac1",
   "metadata": {},
   "outputs": [
    {
     "name": "stdout",
     "output_type": "stream",
     "text": [
      "[]\n"
     ]
    }
   ],
   "source": [
    "myfunc(1,2,3,32,65,67,87,65,874532,)"
   ]
  },
  {
   "cell_type": "code",
   "execution_count": null,
   "id": "82f1eb14",
   "metadata": {},
   "outputs": [],
   "source": []
  },
  {
   "cell_type": "code",
   "execution_count": null,
   "id": "a9d139f7",
   "metadata": {},
   "outputs": [],
   "source": []
  }
 ],
 "metadata": {
  "kernelspec": {
   "display_name": "Python 3",
   "language": "python",
   "name": "python3"
  },
  "language_info": {
   "codemirror_mode": {
    "name": "ipython",
    "version": 3
   },
   "file_extension": ".py",
   "mimetype": "text/x-python",
   "name": "python",
   "nbconvert_exporter": "python",
   "pygments_lexer": "ipython3",
   "version": "3.8.8"
  }
 },
 "nbformat": 4,
 "nbformat_minor": 5
}
