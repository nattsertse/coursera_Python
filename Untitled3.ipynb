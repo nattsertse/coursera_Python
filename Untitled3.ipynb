{
 "cells": [
  {
   "cell_type": "code",
   "execution_count": 1,
   "id": "92694819",
   "metadata": {},
   "outputs": [],
   "source": [
    "game_list = [0,1,2]\n",
    "def display(game_list):\n",
    "    print(\"print the current list\")\n",
    "    print(game_list)"
   ]
  },
  {
   "cell_type": "code",
   "execution_count": 2,
   "id": "603dbea4",
   "metadata": {},
   "outputs": [
    {
     "name": "stdout",
     "output_type": "stream",
     "text": [
      "print the current list\n",
      "[0, 1, 2]\n"
     ]
    }
   ],
   "source": [
    "display(game_list)"
   ]
  },
  {
   "cell_type": "code",
   "execution_count": 3,
   "id": "14cc2797",
   "metadata": {},
   "outputs": [],
   "source": [
    "def position_choice():\n",
    "    choice = \"wrong\"\n",
    "    while choice not in [\"0\",\"1\",\"2\"]:\n",
    "        choice = input(\"enter a number from [0,1,2]: \")\n",
    "        if choice not in [\"0\",\"1\",\"2\"]:\n",
    "            print(\"invalid inpput\")\n",
    "    return int(choice)"
   ]
  },
  {
   "cell_type": "code",
   "execution_count": 4,
   "id": "f3b0f6ba",
   "metadata": {},
   "outputs": [
    {
     "name": "stdout",
     "output_type": "stream",
     "text": [
      "enter a number from [1,2,3]: 2\n"
     ]
    },
    {
     "data": {
      "text/plain": [
       "2"
      ]
     },
     "execution_count": 4,
     "metadata": {},
     "output_type": "execute_result"
    }
   ],
   "source": [
    "position_choice()"
   ]
  },
  {
   "cell_type": "code",
   "execution_count": 5,
   "id": "d239b47e",
   "metadata": {},
   "outputs": [],
   "source": [
    "def replacement_choice(game_list,position):\n",
    "    user_replacement = input(\"insert the string value you want replace: \" )\n",
    "    game_list[position] = user_replacement\n",
    "    return game_list\n",
    "    "
   ]
  },
  {
   "cell_type": "code",
   "execution_count": 6,
   "id": "2abe09af",
   "metadata": {},
   "outputs": [
    {
     "name": "stdout",
     "output_type": "stream",
     "text": [
      "insert the string value you want replace: exana\n"
     ]
    },
    {
     "data": {
      "text/plain": [
       "[0, 1, 'exana']"
      ]
     },
     "execution_count": 6,
     "metadata": {},
     "output_type": "execute_result"
    }
   ],
   "source": [
    "replacement_choice(game_list,2)"
   ]
  },
  {
   "cell_type": "code",
   "execution_count": 7,
   "id": "df240eee",
   "metadata": {},
   "outputs": [],
   "source": [
    "def gameon_choice():\n",
    "    con = False\n",
    "    while con not in [\"Y\",\"N\"]:\n",
    "        con = input(\"you want to playe again Y or N: \").upper()\n",
    "        if con not in [\"Y\",\"N\"]: \n",
    "            print(\"inavlid input,please choose from Y or N: \")\n",
    "    if con == \"Y\":\n",
    "        return True\n",
    "    else:\n",
    "        return False\n",
    "    "
   ]
  },
  {
   "cell_type": "code",
   "execution_count": 8,
   "id": "c1128ccf",
   "metadata": {},
   "outputs": [
    {
     "name": "stdout",
     "output_type": "stream",
     "text": [
      "you want to playe again Y or N: n\n"
     ]
    },
    {
     "data": {
      "text/plain": [
       "False"
      ]
     },
     "execution_count": 8,
     "metadata": {},
     "output_type": "execute_result"
    }
   ],
   "source": [
    "gameon_choice()"
   ]
  },
  {
   "cell_type": "code",
   "execution_count": null,
   "id": "4a4cf3e8",
   "metadata": {},
   "outputs": [
    {
     "name": "stdout",
     "output_type": "stream",
     "text": [
      "print the current list\n",
      "[0, 1, 2]\n"
     ]
    }
   ],
   "source": [
    "game_on = True\n",
    "game_list = [0,1,2]\n",
    "\n",
    "while game_on:\n",
    "    display(game_list)\n",
    "    position = position_choice()\n",
    "    game_list = replacement_choice(game_list,position)\n",
    "    display(game_list)\n",
    "    game_on = gameon_choice()\n",
    "    \n",
    "    "
   ]
  },
  {
   "cell_type": "code",
   "execution_count": null,
   "id": "22880d60",
   "metadata": {},
   "outputs": [],
   "source": []
  },
  {
   "cell_type": "code",
   "execution_count": null,
   "id": "a57241cb",
   "metadata": {},
   "outputs": [],
   "source": []
  },
  {
   "cell_type": "code",
   "execution_count": null,
   "id": "accaa4e2",
   "metadata": {},
   "outputs": [],
   "source": []
  },
  {
   "cell_type": "code",
   "execution_count": null,
   "id": "d432e9c0",
   "metadata": {},
   "outputs": [],
   "source": []
  }
 ],
 "metadata": {
  "kernelspec": {
   "display_name": "Python 3",
   "language": "python",
   "name": "python3"
  },
  "language_info": {
   "codemirror_mode": {
    "name": "ipython",
    "version": 3
   },
   "file_extension": ".py",
   "mimetype": "text/x-python",
   "name": "python",
   "nbconvert_exporter": "python",
   "pygments_lexer": "ipython3",
   "version": "3.8.8"
  }
 },
 "nbformat": 4,
 "nbformat_minor": 5
}
