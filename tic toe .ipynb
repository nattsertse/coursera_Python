{
 "cells": [
  {
   "cell_type": "code",
   "execution_count": 5,
   "id": "c162fd48",
   "metadata": {},
   "outputs": [],
   "source": [
    "game_list = ['#','x','o','x','o','x','o','x','o','x']\n",
    "from IPython.display import clear_output\n",
    "def display(game_list):\n",
    "    print(game_list[9] ,game_list[8] , game_list[7] )\n",
    "    print(game_list[6] ,game_list[5] , game_list[4] )\n",
    "    print(game_list[3] ,game_list[2] , game_list[1] )\n",
    "    "
   ]
  },
  {
   "cell_type": "code",
   "execution_count": 6,
   "id": "eb41dc02",
   "metadata": {},
   "outputs": [
    {
     "name": "stdout",
     "output_type": "stream",
     "text": [
      "x o x\n",
      "o x o\n",
      "x o x\n"
     ]
    }
   ],
   "source": [
    "display(game_list)"
   ]
  },
  {
   "cell_type": "code",
   "execution_count": null,
   "id": "f038f902",
   "metadata": {},
   "outputs": [],
   "source": []
  }
 ],
 "metadata": {
  "kernelspec": {
   "display_name": "Python 3",
   "language": "python",
   "name": "python3"
  },
  "language_info": {
   "codemirror_mode": {
    "name": "ipython",
    "version": 3
   },
   "file_extension": ".py",
   "mimetype": "text/x-python",
   "name": "python",
   "nbconvert_exporter": "python",
   "pygments_lexer": "ipython3",
   "version": "3.8.8"
  }
 },
 "nbformat": 4,
 "nbformat_minor": 5
}
